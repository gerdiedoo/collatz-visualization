{
 "cells": [
  {
   "cell_type": "code",
   "execution_count": null,
   "metadata": {},
   "outputs": [],
   "source": [
    "# %pip install matplotlib\n",
    "# %pip install opencv-python"
   ]
  },
  {
   "cell_type": "code",
   "execution_count": 18,
   "metadata": {},
   "outputs": [],
   "source": [
    "import pandas\n",
    "import numpy as np\n",
    "import matplotlib.pyplot as plt\n",
    "import matplotlib as mpl\n",
    "import cv2\n",
    "import os"
   ]
  },
  {
   "cell_type": "code",
   "execution_count": 4,
   "metadata": {},
   "outputs": [],
   "source": [
    "def collatz(n):\n",
    "    if n == 1:                             \n",
    "        result = [1]\n",
    "    elif n % 2 == 0:\n",
    "        result = collatz(n // 2) + [n]\n",
    "    elif n % 2 == 1:\n",
    "        result = collatz((3 * n) + 1) + [n]\n",
    "    return result\n",
    "\n",
    "seen = {}\n",
    "sequence_lengths=[]\n",
    "def color_picker():\n",
    "    return np.random.choice(['#FF5E02','red', 'blue','#6400FF','#E10060','#02D1FF'])\n",
    "def transforms(x):\n",
    "    seq=[0]\n",
    "    val=[0]\n",
    "    rad=0\n",
    "    even= -.54  * (np.pi / 180)\n",
    "    odd = 1.2 * (np.pi / 180)\n",
    "    for i in range(1, len(x)):\n",
    "        if x[i]%2==0:\n",
    "            seq.append(seq[i-1]+np.sin(rad+even))\n",
    "            rad=rad+even            \n",
    "        else:\n",
    "            seq.append(seq[i-1]+np.sin(rad+odd))\n",
    "            rad=rad+odd\n",
    "        val.append(val[i-1]+np.cos(rad))\n",
    "    return val,seq\n",
    "    \n"
   ]
  },
  {
   "cell_type": "code",
   "execution_count": null,
   "metadata": {},
   "outputs": [],
   "source": [
    "plt.figure(figsize=(10,10))\n",
    "fig, ax = plt.subplots()\n",
    "fig.set_figheight(6)\n",
    "fig.set_figwidth(6)\n",
    "runs=2000\n",
    "\n",
    "for j in range(3, runs, 10):\n",
    "    for i in range(1, j):\n",
    "        length = collatz(i)    \n",
    "        sequence_lengths.append(length)\n",
    "        x,y = transforms(np.array(length))\n",
    "        ax.set_facecolor('black')\n",
    "\n",
    "        # Hide X and Y axes label marks\n",
    "        ax.xaxis.set_tick_params(labelbottom=False)\n",
    "        ax.yaxis.set_tick_params(labelleft=False)\n",
    "\n",
    "        # Hide X and Y axes tick marks\n",
    "        ax.set_xticks([])\n",
    "        ax.set_yticks([])\n",
    "\n",
    "        ax.plot(x,y, alpha=0.15, color=color_picker());\n",
    "        plt.xlim(-12, 187)  # Set the same x-axis limits for both subplots\n",
    "        plt.ylim(-3.5, 17.5)  # Set the same y-axis limits for both subplots\n",
    "\n",
    "    plt.savefig(f\"generated_images/{j}.png\", format=\"png\")"
   ]
  },
  {
   "cell_type": "code",
   "execution_count": 23,
   "metadata": {},
   "outputs": [],
   "source": [
    "def images_to_video(images_folder, output_video_path, fps=30):\n",
    "    image_files = sorted([f for f in os.listdir(images_folder) if f.endswith(\".png\")], key=lambda x: int(x[:-4]))\n",
    "    \n",
    "    if not image_files:\n",
    "        raise ValueError(\"No PNG images found in the folder.\")\n",
    "    \n",
    "    # Get the dimensions of the first image to use for the video resolution\n",
    "    first_image_path = os.path.join(images_folder, image_files[0])\n",
    "    img = cv2.imread(first_image_path)\n",
    "    height, width, _ = img.shape\n",
    "    \n",
    "    # Define the video codec and create a VideoWriter object\n",
    "    fourcc = cv2.VideoWriter_fourcc(*'mp4v')  # Change the codec as needed (e.g., 'XVID', 'MJPG')\n",
    "    out = cv2.VideoWriter(output_video_path, fourcc, fps, (width, height))\n",
    "    \n",
    "    for image_file in image_files:\n",
    "        image_path = os.path.join(images_folder, image_file)\n",
    "        img = cv2.imread(image_path)\n",
    "        out.write(img)\n",
    "    \n",
    "    # Release the VideoWriter and close the output file\n",
    "    out.release()\n",
    "    cv2.destroyAllWindows()"
   ]
  },
  {
   "cell_type": "code",
   "execution_count": 25,
   "metadata": {},
   "outputs": [],
   "source": [
    "images_folder_path = \"C:\\\\Users\\\\User\\\\Desktop\\\\texture_generator\\\\generated_images\"\n",
    "# Replace with the desired output video path\n",
    "output_video_path = \"C:\\\\Users\\\\User\\\\Desktop\\\\texture_generator\\\\video.mp4\"\n",
    "# Set the frames per second (FPS) for the video (default is 30 FPS)\n",
    "fps = 60\n",
    "\n",
    "images_to_video(images_folder_path, output_video_path, fps)"
   ]
  }
 ],
 "metadata": {
  "kernelspec": {
   "display_name": "Python 3",
   "language": "python",
   "name": "python3"
  },
  "language_info": {
   "codemirror_mode": {
    "name": "ipython",
    "version": 3
   },
   "file_extension": ".py",
   "mimetype": "text/x-python",
   "name": "python",
   "nbconvert_exporter": "python",
   "pygments_lexer": "ipython3",
   "version": "3.10.11"
  },
  "orig_nbformat": 4
 },
 "nbformat": 4,
 "nbformat_minor": 2
}
